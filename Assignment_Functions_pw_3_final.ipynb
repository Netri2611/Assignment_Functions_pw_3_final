{
  "cells": [
    {
      "cell_type": "markdown",
      "source": [
        "PRACTICAL QUESTIONS -"
      ],
      "metadata": {
        "id": "ZnAvov9IspwC"
      },
      "id": "ZnAvov9IspwC"
    },
    {
      "cell_type": "markdown",
      "id": "867c5e39",
      "metadata": {
        "id": "867c5e39"
      },
      "source": [
        "### 1. Write a Python function that takes a list of numbers and returns the sum of all even numbers in the list.\n",
        "**Explanation:** Even numbers are divisible by 2. We use a loop or list comprehension to find and sum them."
      ]
    },
    {
      "cell_type": "code",
      "execution_count": null,
      "id": "71954517",
      "metadata": {
        "colab": {
          "base_uri": "https://localhost:8080/"
        },
        "id": "71954517",
        "outputId": "8fc5837c-c186-44ca-f949-1e1732113f7e"
      },
      "outputs": [
        {
          "output_type": "stream",
          "name": "stdout",
          "text": [
            "20\n"
          ]
        }
      ],
      "source": [
        "def sum_even_numbers(numbers):\n",
        "    return sum(num for num in numbers if num % 2 == 0)\n",
        "\n",
        "\n",
        "print(sum_even_numbers([1, 2, 3, 4, 5, 6,7,8]))\n"
      ]
    },
    {
      "cell_type": "markdown",
      "id": "c8940500",
      "metadata": {
        "id": "c8940500"
      },
      "source": [
        "### 2. Create a Python function that accepts a string and returns the reverse of that string.\n",
        "**Explanation:** Strings can be reversed using slicing `[::-1]`."
      ]
    },
    {
      "cell_type": "code",
      "execution_count": null,
      "id": "86839394",
      "metadata": {
        "colab": {
          "base_uri": "https://localhost:8080/"
        },
        "id": "86839394",
        "outputId": "6ab05f9f-c326-4e89-d530-d54113ba9fe0"
      },
      "outputs": [
        {
          "output_type": "stream",
          "name": "stdout",
          "text": [
            "naherT_irteN\n"
          ]
        }
      ],
      "source": [
        "def reverse_string(s):\n",
        "    return s[::-1]\n",
        "\n",
        "# Example usage\n",
        "print(reverse_string(\"Netri_Trehan\"))\n"
      ]
    },
    {
      "cell_type": "markdown",
      "id": "c0de9fc2",
      "metadata": {
        "id": "c0de9fc2"
      },
      "source": [
        "### 3. Write a function that takes a list of integers and returns a new list with the square of each number.\n",
        "**Explanation:** The square of a number is obtained by multiplying it by itself."
      ]
    },
    {
      "cell_type": "code",
      "execution_count": null,
      "id": "e5f87c42",
      "metadata": {
        "colab": {
          "base_uri": "https://localhost:8080/"
        },
        "id": "e5f87c42",
        "outputId": "1802b33f-d229-4b16-fbaf-f8b41dfa65c3"
      },
      "outputs": [
        {
          "output_type": "stream",
          "name": "stdout",
          "text": [
            "[1, 4, 9, 16]\n"
          ]
        }
      ],
      "source": [
        "def square_list(numbers):\n",
        "    return [num ** 2 for num in numbers]\n",
        "\n",
        "# Example usage\n",
        "print(square_list([1, 2, 3, 4]))  # Output: [1, 4, 9, 16]\n"
      ]
    },
    {
      "cell_type": "markdown",
      "id": "83bbec1b",
      "metadata": {
        "id": "83bbec1b"
      },
      "source": [
        "### 4. Write a function to check whether a number is prime (between 1 to 200).\n",
        "**Explanation:** A prime number is only divisible by 1 and itself."
      ]
    },
    {
      "cell_type": "code",
      "execution_count": null,
      "id": "2d5ec48e",
      "metadata": {
        "id": "2d5ec48e"
      },
      "outputs": [],
      "source": [
        "def is_prime(n):\n",
        "    if n < 2:\n",
        "        return False\n",
        "    for i in range(2, int(n ** 0.5) + 1):\n",
        "        if n % i == 0:\n",
        "            return False\n",
        "    return True\n",
        "\n"
      ]
    },
    {
      "cell_type": "code",
      "source": [
        "is_prime(5)"
      ],
      "metadata": {
        "colab": {
          "base_uri": "https://localhost:8080/"
        },
        "id": "Olri17BR-35Y",
        "outputId": "1b430a0b-2f7f-4139-eb25-88287304a593"
      },
      "id": "Olri17BR-35Y",
      "execution_count": null,
      "outputs": [
        {
          "output_type": "execute_result",
          "data": {
            "text/plain": [
              "True"
            ]
          },
          "metadata": {},
          "execution_count": 5
        }
      ]
    },
    {
      "cell_type": "code",
      "source": [
        "is_prime(178)"
      ],
      "metadata": {
        "colab": {
          "base_uri": "https://localhost:8080/"
        },
        "id": "nIdEIHLN-7hz",
        "outputId": "c7473bde-95c2-4875-eef7-aaded7e94921"
      },
      "id": "nIdEIHLN-7hz",
      "execution_count": null,
      "outputs": [
        {
          "output_type": "execute_result",
          "data": {
            "text/plain": [
              "False"
            ]
          },
          "metadata": {},
          "execution_count": 6
        }
      ]
    },
    {
      "cell_type": "code",
      "source": [
        "# Print primes from 1 to 200 (2nd approach to get all the list)\n",
        "for i in range(1, 201):\n",
        "    if is_prime(i):\n",
        "        print(i, end=' ')"
      ],
      "metadata": {
        "colab": {
          "base_uri": "https://localhost:8080/"
        },
        "id": "bAOhcdhB_INB",
        "outputId": "f06c32d7-8176-4984-fb7f-1a93f88dd85f"
      },
      "id": "bAOhcdhB_INB",
      "execution_count": null,
      "outputs": [
        {
          "output_type": "stream",
          "name": "stdout",
          "text": [
            "2 3 5 7 11 13 17 19 23 29 31 37 41 43 47 53 59 61 67 71 73 79 83 89 97 101 103 107 109 113 127 131 137 139 149 151 157 163 167 173 179 181 191 193 197 199 "
          ]
        }
      ]
    },
    {
      "cell_type": "markdown",
      "id": "18b9082e",
      "metadata": {
        "id": "18b9082e"
      },
      "source": [
        "### 5. Create an iterator class that generates the Fibonacci sequence up to a certain number of terms.\n",
        "**Explanation:** Fibonacci numbers are generated by adding the previous two numbers."
      ]
    },
    {
      "cell_type": "code",
      "source": [
        "def fibonacci_generator(n):\n",
        "    a, b = 0, 1\n",
        "    for _ in range(n):\n",
        "        yield a\n",
        "        a, b = b, a + b\n",
        "for num in fibonacci_generator(15):\n",
        "    print(num)\n"
      ],
      "metadata": {
        "colab": {
          "base_uri": "https://localhost:8080/"
        },
        "id": "IG11Y9cAqXpX",
        "outputId": "d22714dc-1996-4ffa-8a0e-d1cdbbaf2fa2"
      },
      "id": "IG11Y9cAqXpX",
      "execution_count": null,
      "outputs": [
        {
          "output_type": "stream",
          "name": "stdout",
          "text": [
            "0\n",
            "1\n",
            "1\n",
            "2\n",
            "3\n",
            "5\n",
            "8\n",
            "13\n",
            "21\n",
            "34\n",
            "55\n",
            "89\n",
            "144\n",
            "233\n",
            "377\n"
          ]
        }
      ]
    },
    {
      "cell_type": "markdown",
      "id": "36d53a94",
      "metadata": {
        "id": "36d53a94"
      },
      "source": [
        "### 6. Write a generator function that yields powers of 2 up to a given exponent.\n",
        "**Explanation:** 2 raised to power n is written as `2 ** n` in Python."
      ]
    },
    {
      "cell_type": "code",
      "execution_count": null,
      "id": "0d1c004c",
      "metadata": {
        "colab": {
          "base_uri": "https://localhost:8080/"
        },
        "id": "0d1c004c",
        "outputId": "aa14b65d-1db8-475c-9d71-66b1161030b1"
      },
      "outputs": [
        {
          "output_type": "stream",
          "name": "stdout",
          "text": [
            "1\n",
            "2\n",
            "4\n",
            "8\n",
            "16\n",
            "32\n"
          ]
        }
      ],
      "source": [
        "def powers_of_two(n):\n",
        "    for i in range(n + 1):\n",
        "        yield 2 ** i\n",
        "\n",
        "for num in powers_of_two(5):\n",
        "    print(num)\n"
      ]
    },
    {
      "cell_type": "markdown",
      "id": "8f58f84e",
      "metadata": {
        "id": "8f58f84e"
      },
      "source": [
        "### 7. Implement a generator function that reads a file line by line and yields each line as a string.\n",
        "\n",
        "**Explanation:** Reading one line at a time is memory-efficient.\n",
        "\n"
      ]
    },
    {
      "cell_type": "markdown",
      "id": "f1c6828c",
      "metadata": {
        "id": "f1c6828c"
      },
      "source": [
        "### 8. . Use a lambda function in Python to sort a list of tuples based on the second element of each tuple.\n",
        "\n",
        "**Explanation:** A lambda is a small anonymous function, here used as key in sorting."
      ]
    },
    {
      "cell_type": "code",
      "execution_count": null,
      "id": "1a89a86e",
      "metadata": {
        "colab": {
          "base_uri": "https://localhost:8080/"
        },
        "id": "1a89a86e",
        "outputId": "d62c560a-ebc2-4c9a-92a2-1a540559eed5"
      },
      "outputs": [
        {
          "output_type": "stream",
          "name": "stdout",
          "text": [
            "[(2, 1), (4, 2), (1, 3)]\n"
          ]
        }
      ],
      "source": [
        "tuples = [(1, 3), (2, 1), (4, 2)]\n",
        "sorted_tuples = sorted(tuples, key=lambda x: x[1])\n",
        "print(sorted_tuples)"
      ]
    },
    {
      "cell_type": "markdown",
      "id": "85972e17",
      "metadata": {
        "id": "85972e17"
      },
      "source": [
        "### 9. Write a Python program that uses `map()` to convert a list of temperatures from Celsius to Fahrenheit.\n",
        "\n",
        "**Explanation:** Formula: (C × 9/5) + 32 = F"
      ]
    },
    {
      "cell_type": "code",
      "execution_count": null,
      "id": "f113b81a",
      "metadata": {
        "colab": {
          "base_uri": "https://localhost:8080/"
        },
        "id": "f113b81a",
        "outputId": "71ee203b-ad70-485f-8cf0-165abcc20ead"
      },
      "outputs": [
        {
          "output_type": "stream",
          "name": "stdout",
          "text": [
            "[32.0, 50.0, 68.0, 86.0]\n"
          ]
        }
      ],
      "source": [
        "celsius = [0, 10, 20, 30]\n",
        "fahrenheit = list(map(lambda c: (c * 9/5) + 32, celsius))\n",
        "print(fahrenheit)\n"
      ]
    },
    {
      "cell_type": "markdown",
      "id": "b6d1fae6",
      "metadata": {
        "id": "b6d1fae6"
      },
      "source": [
        "### 10. Create a Python program that uses `filter()` to remove all the vowels from a given string.\n",
        "**Explanation:** Vowels are 'a', 'e', 'i', 'o', 'u'. Filter keeps only consonants."
      ]
    },
    {
      "cell_type": "code",
      "execution_count": null,
      "id": "5203cd6f",
      "metadata": {
        "colab": {
          "base_uri": "https://localhost:8080/"
        },
        "id": "5203cd6f",
        "outputId": "1fc39e17-e326-4a54-eaf9-4cb786413030"
      },
      "outputs": [
        {
          "output_type": "stream",
          "name": "stdout",
          "text": [
            "Hll Wrld\n"
          ]
        }
      ],
      "source": [
        "def remove_vowels(s):\n",
        "    return ''.join(filter(lambda x: x.lower() not in 'aeiou', s))\n",
        "\n",
        "print(remove_vowels(\"Hello World\"))"
      ]
    },
    {
      "cell_type": "code",
      "source": [
        "def remove(a):\n",
        "  return ''.join(filter(lambda x:x.lower() not in 'aeiou',a))\n",
        "\n",
        "\n",
        "print(remove(\"Netri you are doing good\"))"
      ],
      "metadata": {
        "colab": {
          "base_uri": "https://localhost:8080/"
        },
        "id": "j5FMRwZsru6J",
        "outputId": "3795fdb7-4031-4766-83d5-bc9caaf93969"
      },
      "id": "j5FMRwZsru6J",
      "execution_count": null,
      "outputs": [
        {
          "output_type": "stream",
          "name": "stdout",
          "text": [
            "Ntr y r dng gd\n"
          ]
        }
      ]
    },
    {
      "cell_type": "markdown",
      "id": "7bd5bfa6",
      "metadata": {
        "id": "7bd5bfa6"
      },
      "source": [
        "### 11. Write a Python program, which returns a list with 2-tuples. Each tuple consists of the order number and the product of the price per item and the quantity. The product should be increased by 10,- € if the value of the order is smaller than 100,00 €.Write a Python program using lambda and map.\n",
        "\n",
        "**Explanation:** Use `map()` and `lambda` to process each sublist."
      ]
    },
    {
      "cell_type": "code",
      "execution_count": null,
      "id": "774046e1",
      "metadata": {
        "id": "774046e1",
        "colab": {
          "base_uri": "https://localhost:8080/"
        },
        "outputId": "29241d62-682a-4370-be18-76982c1075bc"
      },
      "outputs": [
        {
          "output_type": "stream",
          "name": "stdout",
          "text": [
            "[(34587, 163.8), (98762, 284.0), (77226, 108.85000000000001), (88112, 84.97)]\n"
          ]
        }
      ],
      "source": [
        "orders = [\n",
        "    [34587, \"Learning Python\", 4, 40.95],\n",
        "    [98762, \"Programming Python\", 5, 56.80],\n",
        "    [77226, \"Head First Python\", 3, 32.95],\n",
        "    [88112, \"Einführung in Python3\", 3, 24.99]\n",
        "]\n",
        "\n",
        "result = list(map(lambda x: (x[0], x[2]*x[3] if x[2]*x[3] >= 100 else x[2]*x[3] + 10), orders))\n",
        "print(result)\n"
      ]
    },
    {
      "cell_type": "code",
      "source": [],
      "metadata": {
        "id": "RAHf8jhapSWC"
      },
      "id": "RAHf8jhapSWC",
      "execution_count": null,
      "outputs": []
    },
    {
      "cell_type": "markdown",
      "source": [
        "Theory -\n",
        "\n",
        "---\n",
        "\n",
        "## 1. What is the difference between a function and a method in Python?\n",
        "- A **function** is a block of code that performs a task. It is defined using the `def` keyword.\n",
        "- A **method** is a function that belongs to an object (usually a class).\n",
        "\n",
        "**Example:**\n",
        "```python\n",
        "def greet(): #here def is function.\n",
        "    print(\"Hello\")\n",
        "\n",
        "name = \"Netri\"\n",
        "print(name.upper())  # upper() is a method of string object\n",
        "```\n",
        "\n",
        "---\n",
        "\n",
        "## 2. Explain the concept of function arguments and parameters in Python.\n",
        "- **Parameters** are the names used when defining a function.\n",
        "- **Arguments** are the actual values passed to the function when calling it.\n",
        "\n",
        "**Example:**\n",
        "```python\n",
        "def add(a, b):  # a and b are parameters\n",
        "    return a + b\n",
        "\n",
        "add(5, 3)  # 5 and 3 are arguments\n",
        "```\n",
        "\n",
        "---\n",
        "\n",
        "## 3. What are the different ways to define and call a function in Python?\n",
        "- Define a function using `def` keyword.\n",
        "- Call it using its name followed by parentheses `()`.\n",
        "\n",
        "**Example:**\n",
        "```python\n",
        "def say_hello():\n",
        "    print(\"Hello!\")\n",
        "\n",
        "say_hello()  # Calling the function\n",
        "```\n",
        "\n",
        "---\n",
        "\n",
        "## 4. What is the purpose of the `return` statement in a Python function?\n",
        "- The `return` statement is used to send a value back to the place where the function was called.\n",
        "\n",
        "**Example:**\n",
        "```python\n",
        "def square(x):\n",
        "    return x * x\n",
        "\n",
        "result = square(4)\n",
        "print(result)  # Output: 16\n",
        "```\n",
        "\n",
        "---\n",
        "\n",
        "## 5. What are iterators in Python and how do they differ from iterables?\n",
        "- An **iterable** is an object that can be looped over (like a list, tuple, string).\n",
        "- An **iterator** is an object that remembers its position during iteration and uses `next()` to get the next value.\n",
        "\n",
        "**Example:**\n",
        "```python\n",
        "numbers = [1, 2, 3]  # Iterable\n",
        "it = iter(numbers)  # Iterator\n",
        "\n",
        "print(next(it))  # Output: 1\n",
        "```\n",
        "\n",
        "---\n",
        "\n",
        "## 6. Explain the concept of generators in Python and how they are defined.\n",
        "- Generators are special functions that return an iterator and use `yield` instead of `return`.\n",
        "\n",
        "**Example:**\n",
        "```python\n",
        "def count_up_to(n):\n",
        "    i = 1\n",
        "    while i <= n:\n",
        "        yield i\n",
        "        i += 1\n",
        "\n",
        "res = count_up_to(4)\n",
        "\n",
        "print(next(res))  # Output: 1\n",
        "print(next(res))  # Output: 2\n",
        "print(next(res))  # Output: 3\n",
        "print(next(res))  # Output: 4\n",
        "\n",
        "#then it will stop ,so these are the final results\n",
        "\n",
        "```\n",
        "\n",
        "---\n",
        "\n",
        "## 7. What are the advantages of using generators over regular functions?\n",
        "- Generators are **memory-efficient** because they yield one value at a time.\n",
        "- They are good for working with large data.\n",
        "\n",
        "**Example:** Reading large files line by line using a generator and it saves time and memory.If we use regular functions it will use more memory and space hence using generator is efficient and saver of space and memory.\n",
        "\n",
        "---\n",
        "\n",
        "## 8. What is a lambda function in Python and when is it typically used?\n",
        "- A **lambda** function is an anonymous (nameless) function used for short tasks.\n",
        "\n",
        "**Example:**\n",
        "```python\n",
        "square = lambda k: k * k\n",
        "print(square(5))  # Output: 25\n",
        "```\n",
        "\n",
        "---\n",
        "\n",
        "## 9. Explain the purpose and usage of the `map()` function in Python.\n",
        "- The `map()` function applies a function to every item in an iterable.\n",
        "\n",
        "**Example:**\n",
        "```python\n",
        "nums = [1, 2, 3]\n",
        "squared = list(map(lambda x: x*x, nums))\n",
        "print(squared)  # Output: [1, 4, 9]\n",
        "```\n",
        "\n",
        "---\n",
        "\n",
        "## 10. What is the difference between `map()`, `reduce()`, and `filter()` functions in Python?\n",
        "- `map()` applies a function to all items.\n",
        "- `filter()` selects items that meet a condition.\n",
        "- `reduce()` (from `functools`) reduces a list to a single value.\n",
        "\n",
        "**Example:**\n",
        "```python\n",
        "from functools import reduce\n",
        "\n",
        "# map\n",
        "list1 = [1, 2, 3]\n",
        "print(list(map(lambda x: x+1, list1)))  # [2, 3, 4]\n",
        "\n",
        "# filter\n",
        "print(list(filter(lambda x: x%2 == 0, list1)))  # [2]\n",
        "\n",
        "# reduce\n",
        "print(reduce(lambda x, y: x + y, list1))  # 6\n",
        "```\n",
        "\n",
        "---\n",
        "\n",
        "## 11. . Using pen & Paper write the internal mechanism for sum operation using  reduce function on this given\n",
        "list:[47,11,42,13];\n",
        "\n",
        "### Manual Calculation Steps:\n",
        "```\n",
        "Step 1: 47 + 11 = 58\n",
        "Step 2: 58 + 42 = 100\n",
        "Step 3: 100 + 13 = 113\n",
        "Final result = 113\n",
        "```\n"
      ],
      "metadata": {
        "id": "cw5p5bQvq4lV"
      },
      "id": "cw5p5bQvq4lV"
    },
    {
      "cell_type": "code",
      "source": [
        "from functools import reduce\n",
        "\n",
        "numbers = [47, 11, 42, 13]\n",
        "\n",
        "result = reduce(lambda x, y: x + y, numbers)\n",
        "print(result)\n"
      ],
      "metadata": {
        "colab": {
          "base_uri": "https://localhost:8080/"
        },
        "id": "pxkn9VzWsGX-",
        "outputId": "fdfa6443-8822-4063-917a-8fb260de19aa"
      },
      "id": "pxkn9VzWsGX-",
      "execution_count": null,
      "outputs": [
        {
          "output_type": "stream",
          "name": "stdout",
          "text": [
            "113\n"
          ]
        }
      ]
    },
    {
      "cell_type": "code",
      "source": [],
      "metadata": {
        "id": "04YH5kH_sHIo"
      },
      "id": "04YH5kH_sHIo",
      "execution_count": null,
      "outputs": []
    }
  ],
  "metadata": {
    "colab": {
      "provenance": []
    },
    "language_info": {
      "name": "python"
    },
    "kernelspec": {
      "name": "python3",
      "display_name": "Python 3"
    }
  },
  "nbformat": 4,
  "nbformat_minor": 5
}